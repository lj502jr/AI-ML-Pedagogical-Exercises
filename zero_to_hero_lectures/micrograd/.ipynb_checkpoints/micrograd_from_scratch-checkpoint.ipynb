{
 "cells": [
  {
   "cell_type": "code",
   "execution_count": 896,
   "id": "2275cb49-b797-43c2-84cb-b80c3180f1e6",
   "metadata": {
    "tags": []
   },
   "outputs": [],
   "source": [
    "import math\n",
    "import numpy as np\n",
    "import matplotlib.pyplot as plt\n",
    "import random\n",
    "\n",
    "%matplotlib inline"
   ]
  },
  {
   "cell_type": "code",
   "execution_count": 897,
   "id": "0d6d9c53-a33c-4e22-9b71-d4996c0c718a",
   "metadata": {},
   "outputs": [],
   "source": [
    "# DEFINING VALUE WRAPPER SO WE CAN TRACK BACKWARD PASS AND GRADIENT\n",
    "\n",
    "class Value:\n",
    "    \n",
    "    def __init__(self, data, _children=(), _op='', label=''):\n",
    "        self.data = data\n",
    "        self.grad = 0.0\n",
    "        self._backward = lambda: None\n",
    "        self._prev = set(_children)\n",
    "        self._op = _op\n",
    "        self.label = label\n",
    "    \n",
    "    def __repr__(self):\n",
    "        return f\"Value(data={self.data})\"\n",
    "    \n",
    "    def __add__(self, other):\n",
    "        other = other if isinstance(other, Value) else Value(other)\n",
    "        out = Value(self.data + other.data, (self, other), '+')\n",
    "        \n",
    "        # USING += for gradients because multiple variable calculus the derivatives accumulate with respect to the output\n",
    "        def _backward():\n",
    "            self.grad += 1.0 * out.grad\n",
    "            other.grad += 1.0 * out.grad\n",
    "        out._backward = _backward\n",
    "        \n",
    "        return out\n",
    "    \n",
    "    def __mul__(self, other):\n",
    "        other = other if isinstance(other, Value) else Value(other)\n",
    "        out = Value(self.data * other.data, (self, other), '*')\n",
    "        \n",
    "        def _backward():\n",
    "            self.grad += other.data * out.grad\n",
    "            other.grad += self.data *out.grad \n",
    "        out._backward = _backward\n",
    "        return out\n",
    "    \n",
    "    def __pow__(self, other):\n",
    "        assert isinstance(other, (int, float)), \"only supporting int/float powers for now\"\n",
    "        out = Value(self.data**other, (self,), f'**{other}')\n",
    "        \n",
    "        def _backward():\n",
    "            self.grad += other * (self.data**(other-1)) * out.grad\n",
    "        out._backward = _backward\n",
    "        return out\n",
    "    \n",
    "    def __rmul__(self, other):\n",
    "        return self * other\n",
    "    \n",
    "    def __truediv__(self, other): # self / other\n",
    "        return self * other**-1\n",
    "    \n",
    "    def __neg__(self):\n",
    "        return self * -1\n",
    "    \n",
    "    def __sub__(self, other):\n",
    "        return self + (-other)\n",
    "    \n",
    "    def __radd__(self, other):\n",
    "        return self + other\n",
    "        \n",
    "    def tanh(self):\n",
    "        x = self.data\n",
    "        t = (math.exp(2*x) - 1)/(math.exp(2*x) + 1)\n",
    "        out = Value(t, (self, ), 'tanh')\n",
    "        \n",
    "        def _backward():\n",
    "            self.grad += (1 - t**2) * out.grad\n",
    "        out._backward = _backward\n",
    "        return out\n",
    "    \n",
    "    def exp(self):\n",
    "        x = self.data\n",
    "        out = Value(math.exp(x), (self, ), 'exp')\n",
    "        \n",
    "        def _backward():\n",
    "            self.grad += out.data * out.grad \n",
    "        out._backward = _backward\n",
    "        \n",
    "        return out\n",
    "    \n",
    "    def backward(self):\n",
    "        #topological graph sorting nodes from leaf node -> parent node\n",
    "        topo = []\n",
    "        visited = set()\n",
    "\n",
    "        def build_topo(v):\n",
    "            if v not in visited:\n",
    "                visited.add(v)\n",
    "                for child in v._prev:\n",
    "                    build_topo(child)\n",
    "                topo.append(v)\n",
    "        build_topo(self)\n",
    "\n",
    "        self.grad = 1.0\n",
    "        for node in reversed(topo):\n",
    "            node._backward()"
   ]
  },
  {
   "cell_type": "code",
   "execution_count": 898,
   "id": "14cef464-dac6-4b74-beae-7a9804311f82",
   "metadata": {},
   "outputs": [],
   "source": [
    "# VISUALIZATION OF FORWARD AND BACKWARD PASS\n",
    "\n",
    "from graphviz import Digraph\n",
    "\n",
    "def trace(root):\n",
    "    # builds a set of all nodes and edges in a graph\n",
    "    nodes, edges = set(), set()\n",
    "    def build(v):\n",
    "        if v not in nodes:\n",
    "            nodes.add(v)\n",
    "            for child in v._prev:\n",
    "                edges.add((child,v))\n",
    "                build(child)\n",
    "    build(root)\n",
    "    return nodes, edges\n",
    "\n",
    "def draw_dot(root):\n",
    "    dot = Digraph(format='svg', graph_attr={'rankdir': 'LR'}) #LR = left to right\n",
    "    \n",
    "    nodes, edges = trace(root)\n",
    "    for n in nodes:\n",
    "        uid = str(id(n))\n",
    "        # for any value in the graph, create a rectangular ('record') node for it\n",
    "        dot.node(name = uid, label = \"{ %s | data %.4f | grad %.4f }\" % (n.label, n.data, n.grad ), shape='record')\n",
    "        if n._op:\n",
    "            # if this value is a result of some operation, create an op node for it\n",
    "            dot.node(name = uid + n._op, label = n._op)\n",
    "            # and connect this node to it\n",
    "            dot.edge(uid + n._op, uid)\n",
    "    for n1, n2 in edges:\n",
    "        # connect n1 to the op node of n2\n",
    "        dot.edge(str(id(n1)), str(id(n2)) + n2._op)\n",
    "    \n",
    "    return dot\n",
    "            "
   ]
  },
  {
   "cell_type": "code",
   "execution_count": 899,
   "id": "c4cd3774-48d1-4b16-86fb-158351439d88",
   "metadata": {},
   "outputs": [
    {
     "name": "stdout",
     "output_type": "stream",
     "text": [
      "0.7071066904050358\n",
      "---\n",
      "x2 0.5000001283844369\n",
      "w2 0.0\n",
      "x1 -1.5000003851533106\n",
      "w1 1.0000002567688737\n"
     ]
    }
   ],
   "source": [
    "# PYTORCH IMPLEMENTATION EXAMPLE\n",
    "\n",
    "import torch\n",
    "\n",
    "# casting to double bc in python by default values are stored as such, so we do the same for coherence\n",
    "\n",
    "                                                 # by default pytorch doesnt calculate gradients for each value bc leaf nodes dont need it\n",
    "x1 = torch.Tensor([2.0]).double()                ; x1.requires_grad = True\n",
    "x2 = torch.Tensor([0.0]).double()                ; x2.requires_grad = True\n",
    "w1 = torch.Tensor([-3.0]).double()               ; w1.requires_grad = True\n",
    "w2 = torch.Tensor([1.0]).double()                ; w2.requires_grad = True\n",
    "b = torch.Tensor([6.8813735870195432]).double()  ; b.requires_grad = True\n",
    "n = x1*w1 + x2*w2 + b                             # representation of a single neuron's weights, inputs, and bias\n",
    "o= torch.tanh(n)\n",
    "\n",
    "print(o.data.item())\n",
    "o.backward()\n",
    "\n",
    "print('---')\n",
    "print('x2', x2.grad.item())\n",
    "print('w2', w2.grad.item())\n",
    "print('x1', x1.grad.item())\n",
    "print('w1', w1.grad.item())"
   ]
  },
  {
   "cell_type": "code",
   "execution_count": 900,
   "id": "b24e2f57-5460-4ecc-a3aa-01899a7a039e",
   "metadata": {},
   "outputs": [],
   "source": [
    "# DEFINING NEURAL NET CLASSES\n",
    "\n",
    "class Neuron:\n",
    "    \n",
    "    def __init__(self, nin):\n",
    "        self.w = [Value(random.uniform(-1, 1)) for _ in range(nin)]\n",
    "        self.b = Value(random.uniform(-1, 1))\n",
    "        \n",
    "    def __call__(self, x):\n",
    "        # (ws dot xs) + b\n",
    "        act = sum((wi*xi for wi,xi in zip(self.w, x)), self.b)\n",
    "        out = act.tanh()\n",
    "        return out\n",
    "    \n",
    "    def parameters(self):\n",
    "        return self.w + [self.b]\n",
    "\n",
    "class Layer:\n",
    "    \n",
    "    def __init__(self, nin, nout):\n",
    "        self.neurons = [Neuron(nin) for _ in range(nout)]\n",
    "    \n",
    "    def __call__(self, x):\n",
    "        outs = [n(x) for n in self.neurons]\n",
    "        return outs[0] if len(outs) == 1 else outs\n",
    "    \n",
    "    def parameters(self):\n",
    "        return [p for neuron in self.neurons for p in neuron.parameters()]\n",
    "        \n",
    "class MLP:\n",
    "    \n",
    "    # TAKES LIST OF NOUTS NOT SINGLE NOUT\n",
    "    def __init__(self, nin, nouts):\n",
    "        sz = [nin] + nouts\n",
    "        self.layers = [Layer(sz[i], sz[i+1]) for i in range(len(nouts))]\n",
    "    \n",
    "    def __call__(self, x):\n",
    "        for layer in self.layers:\n",
    "            x = layer(x)\n",
    "        return x\n",
    "    \n",
    "    def parameters(self):\n",
    "        return [p for layer in self.layers for p in layer.parameters()]"
   ]
  },
  {
   "cell_type": "code",
   "execution_count": 916,
   "id": "1112af80-84a6-4b67-87af-e5fe313839ce",
   "metadata": {},
   "outputs": [
    {
     "name": "stdout",
     "output_type": "stream",
     "text": [
      "This Neural Network has 41 parameters that can be adjusted\n"
     ]
    }
   ],
   "source": [
    "# INITIALIZE NEURAL NETWORK\n",
    "\n",
    "n = MLP(3, [4, 4, 1])\n",
    "print(\"This Neural Network has\", len(n.parameters()), \"parameters that can be adjusted\") # NUMBER OF PARAMETERS OR \"KNOBS THAT WE CAN TURN TO EFFECT OUTCOME\""
   ]
  },
  {
   "cell_type": "code",
   "execution_count": 917,
   "id": "c425e7d1-7cfb-4e23-aa1a-0d21c5e05787",
   "metadata": {},
   "outputs": [
    {
     "data": {
      "text/plain": [
       "[Value(data=-0.8265269081901724),\n",
       " Value(data=-0.35997374252228675),\n",
       " Value(data=-0.24050127360602314),\n",
       " Value(data=-0.8788828506526535)]"
      ]
     },
     "execution_count": 917,
     "metadata": {},
     "output_type": "execute_result"
    }
   ],
   "source": [
    "# INITIALIZE DATA INPUTS AND TARGET OUTPUTS\n",
    "\n",
    "xs = [\n",
    "    [2.0, 6.0, -1.0],    # WE WANT THIS ROW TO RETURN '1.0'\n",
    "    [3.0, -1.0, 0.5],    # WE WANT THIS ROW TO RETURN '-1.0'\n",
    "    [0.5, 1.0, 1.0],     # WE WANT THIS ROW TO RETURN '-1.0'\n",
    "    [1.0, 1.0, -1.0],    # WE WANT THIS ROW TO RETURN '1.0'\n",
    "]\n",
    "\n",
    "ys = [1.0, -1.0, -1.0, 1.0] #desired targets for each of the four input xs\n",
    "\n",
    "ypred_start = [n(x) for x in xs]\n",
    "ypred_start"
   ]
  },
  {
   "cell_type": "code",
   "execution_count": 953,
   "id": "f06ebd44-705f-4105-ba75-8727ff7a1dd9",
   "metadata": {},
   "outputs": [
    {
     "name": "stdout",
     "output_type": "stream",
     "text": [
      "The loss of the neural network is:  0.0011702392693417243\n",
      "The loss of the neural network is:  0.0011667530269568833\n",
      "The loss of the neural network is:  0.0011632871639685695\n",
      "The loss of the neural network is:  0.0011598415031854967\n",
      "The loss of the neural network is:  0.0011564158694589769\n",
      "The loss of the neural network is:  0.0011530100896536934\n",
      "The loss of the neural network is:  0.0011496239926188792\n",
      "The loss of the neural network is:  0.0011462574091599892\n",
      "The loss of the neural network is:  0.0011429101720108787\n",
      "The loss of the neural network is:  0.0011395821158065023\n"
     ]
    }
   ],
   "source": [
    "for k in range(10):\n",
    "\n",
    "    # forward pass\n",
    "    ypred = [n(x) for x in xs]\n",
    "    loss = sum((yout - ygt)**2 for ygt, yout in zip(ys, ypred))\n",
    "\n",
    "    # backwards pass\n",
    "    for p in n.parameters():\n",
    "        p.grad = 0.0         # because grad is an accumulation\n",
    "    loss.backward()\n",
    "\n",
    "    # update\n",
    "    for p in n.parameters():\n",
    "        p.data += -0.09 * p.grad\n",
    "    print(\"The loss of the neural network is: \", loss.data)\n",
    "\n"
   ]
  },
  {
   "cell_type": "code",
   "execution_count": 954,
   "id": "b1f90c17-f9b2-4846-b69d-35283e7d5745",
   "metadata": {},
   "outputs": [
    {
     "data": {
      "text/plain": [
       "[Value(data=0.9869720781976778),\n",
       " Value(data=-0.9897373320472505),\n",
       " Value(data=-0.9783407883653017),\n",
       " Value(data=0.9801150416853834)]"
      ]
     },
     "execution_count": 954,
     "metadata": {},
     "output_type": "execute_result"
    }
   ],
   "source": [
    "ypred"
   ]
  },
  {
   "cell_type": "code",
   "execution_count": null,
   "id": "fae52383-e200-48bb-a0d0-3f2a9b52f6df",
   "metadata": {},
   "outputs": [],
   "source": [
    "draw_dot(loss)"
   ]
  }
 ],
 "metadata": {
  "kernelspec": {
   "display_name": "Python 3 (ipykernel)",
   "language": "python",
   "name": "python3"
  },
  "language_info": {
   "codemirror_mode": {
    "name": "ipython",
    "version": 3
   },
   "file_extension": ".py",
   "mimetype": "text/x-python",
   "name": "python",
   "nbconvert_exporter": "python",
   "pygments_lexer": "ipython3",
   "version": "3.10.9"
  }
 },
 "nbformat": 4,
 "nbformat_minor": 5
}
