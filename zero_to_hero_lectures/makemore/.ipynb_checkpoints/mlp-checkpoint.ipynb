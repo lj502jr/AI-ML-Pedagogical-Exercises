{
 "cells": [
  {
   "cell_type": "code",
   "execution_count": 364,
   "id": "e619d15b-3fed-4755-8275-03d874565848",
   "metadata": {},
   "outputs": [],
   "source": [
    "import torch\n",
    "import torch.nn.functional as F\n",
    "import matplotlib.pyplot as plt # for making figures\n",
    "%matplotlib inline"
   ]
  },
  {
   "cell_type": "code",
   "execution_count": 365,
   "id": "632d311b-7bef-435b-a3d8-ecfde1913720",
   "metadata": {},
   "outputs": [],
   "source": [
    "# read in all the words\n",
    "words = open('names.txt', 'r').read().splitlines()"
   ]
  },
  {
   "cell_type": "code",
   "execution_count": 366,
   "id": "425d8aa3-5699-4898-8cd7-ce9271dbeea4",
   "metadata": {},
   "outputs": [
    {
     "data": {
      "text/plain": [
       "32033"
      ]
     },
     "execution_count": 366,
     "metadata": {},
     "output_type": "execute_result"
    }
   ],
   "source": [
    "len(words)"
   ]
  },
  {
   "cell_type": "code",
   "execution_count": 367,
   "id": "b5e0909d-5a70-4743-ab96-689a1b46085f",
   "metadata": {},
   "outputs": [
    {
     "name": "stdout",
     "output_type": "stream",
     "text": [
      "{1: 'a', 2: 'b', 3: 'c', 4: 'd', 5: 'e', 6: 'f', 7: 'g', 8: 'h', 9: 'i', 10: 'j', 11: 'k', 12: 'l', 13: 'm', 14: 'n', 15: 'o', 16: 'p', 17: 'q', 18: 'r', 19: 's', 20: 't', 21: 'u', 22: 'v', 23: 'w', 24: 'x', 25: 'y', 26: 'z', 0: '.'}\n"
     ]
    }
   ],
   "source": [
    "# build the vocabulary of characters and mapping to/from integers\n",
    "chars = sorted(list(set(''.join(words))))\n",
    "stoi = {s:i+1 for i,s in enumerate(chars)}\n",
    "stoi['.'] = 0\n",
    "itos = {i:s for s, i in stoi.items()}\n",
    "print(itos)"
   ]
  },
  {
   "cell_type": "code",
   "execution_count": 368,
   "id": "54e84ea3-5dd0-40d5-9687-0b8d7a9c9a55",
   "metadata": {},
   "outputs": [],
   "source": [
    "#  build the dataset\n",
    "\n",
    "block_size = 3 # context length: how many characters do we take to predict the next one?\n",
    "X, Y = [], []\n",
    "for w in words:\n",
    "    \n",
    "    #print(w)\n",
    "    context = [0] * block_size\n",
    "    for ch in w + '.':\n",
    "        ix = stoi[ch]\n",
    "        X.append(context)\n",
    "        Y.append(ix)\n",
    "        #print(''.join(itos[i] for i in context), '--->', itos[ix])\n",
    "        context = context[1:] + [ix] # crop and append\n",
    "\n",
    "X = torch.tensor(X)\n",
    "Y = torch.tensor(Y)"
   ]
  },
  {
   "cell_type": "code",
   "execution_count": 369,
   "id": "8d6d134d-c552-4773-b9ce-88910bace142",
   "metadata": {},
   "outputs": [
    {
     "data": {
      "text/plain": [
       "(torch.Size([228146, 3]), torch.Size([228146]))"
      ]
     },
     "execution_count": 369,
     "metadata": {},
     "output_type": "execute_result"
    }
   ],
   "source": [
    "X.shape, Y.shape  # dataset"
   ]
  },
  {
   "cell_type": "code",
   "execution_count": 370,
   "id": "fcd33b72-ecfd-403b-8c4e-ec3d1dc3b9e6",
   "metadata": {},
   "outputs": [],
   "source": [
    "# training split, dev/validation split, test split\n",
    "# 80%, 10%, 10%\n",
    "# used for training parameters, used for training hyperparameters, used to evaluate performace\n",
    "# you must not evaluate on test split often else you risk tainting your model by overfitting it"
   ]
  },
  {
   "cell_type": "code",
   "execution_count": 371,
   "id": "d1925a20-e22c-48bf-82c8-47e6496eeede",
   "metadata": {},
   "outputs": [
    {
     "name": "stdout",
     "output_type": "stream",
     "text": [
      "torch.Size([182625, 3]) torch.Size([182625])\n",
      "torch.Size([22655, 3]) torch.Size([22655])\n",
      "torch.Size([22866, 3]) torch.Size([22866])\n"
     ]
    }
   ],
   "source": [
    "# build the dataset\n",
    "\n",
    "def build_dataset(words):\n",
    "    block_size = 3 # context length: how many characters do we take to predict the next one?\n",
    "    X, Y = [], []\n",
    "    for w in words:\n",
    "        \n",
    "        #print(w)\n",
    "        context = [0] * block_size\n",
    "        for ch in w + '.':\n",
    "            ix = stoi[ch]\n",
    "            X.append(context)\n",
    "            Y.append(ix)\n",
    "            context = context[1:] + [ix] # crop and append\n",
    "    X = torch.tensor(X)\n",
    "    Y = torch.tensor(Y)\n",
    "    print(X.shape, Y.shape)\n",
    "    return X, Y\n",
    "\n",
    "import random\n",
    "random.seed(42)\n",
    "random.shuffle(words)\n",
    "n1 = int(0.8*len(words))\n",
    "n2 = int(0.9*len(words))\n",
    "\n",
    "Xtr, Ytr = build_dataset(words[:n1])\n",
    "Xdev, Ydev = build_dataset(words[n1:n2])\n",
    "Xte, Yte = build_dataset(words[n2:])"
   ]
  },
  {
   "cell_type": "code",
   "execution_count": 372,
   "id": "3f13996e-8aa3-41e4-9e92-4174b9043610",
   "metadata": {},
   "outputs": [
    {
     "data": {
      "text/plain": [
       "11897"
      ]
     },
     "execution_count": 372,
     "metadata": {},
     "output_type": "execute_result"
    }
   ],
   "source": [
    "g = torch.Generator().manual_seed(2147483647)  # for reproducibility\n",
    "C = torch.randn((27, 10), generator=g)   # each of 27 char gets embeded in 2 dimensions\n",
    "W1 = torch.randn((30, 200), generator=g)\n",
    "b1 = torch.randn(200, generator=g)\n",
    "W2 = torch.randn((200, 27), generator=g)\n",
    "b2 = torch.randn(27, generator=g)\n",
    "\n",
    "parameters = [C, W1, b1, W2, b2]\n",
    "sum(p.nelement() for p in parameters) # number of parameters in total"
   ]
  },
  {
   "cell_type": "code",
   "execution_count": 373,
   "id": "2e38176c-e90c-4192-8394-2c49a0c3ddc5",
   "metadata": {},
   "outputs": [],
   "source": [
    "for p in parameters:\n",
    "    p.requires_grad = True"
   ]
  },
  {
   "cell_type": "code",
   "execution_count": 374,
   "id": "373785ea-13df-45ae-9ae5-9d4988066961",
   "metadata": {},
   "outputs": [],
   "source": [
    "lre = torch.linspace(-3, 0, 1000)\n",
    "lrs = 10**lre"
   ]
  },
  {
   "cell_type": "code",
   "execution_count": 375,
   "id": "fb64dfdf-bd81-4775-9945-0326e071ba6b",
   "metadata": {},
   "outputs": [],
   "source": [
    "lri = []\n",
    "lossi = []\n",
    "stepi = []"
   ]
  },
  {
   "cell_type": "code",
   "execution_count": 376,
   "id": "eb6d198c-08ee-4495-8be7-f293f04bc348",
   "metadata": {},
   "outputs": [
    {
     "name": "stdout",
     "output_type": "stream",
     "text": [
      "1.877265453338623\n"
     ]
    }
   ],
   "source": [
    "for i in range(200000):\n",
    "    \n",
    "    # minibatch construct\n",
    "    ix = torch.randint(0, Xtr.shape[0], (32,))\n",
    "    \n",
    "    # forward pass\n",
    "    emb = C[Xtr[ix]] # (32, 3, 2), minibatch of 32 indexes, ix from X inputs, embedded in C\n",
    "    h = torch.tanh(emb.view(-1, 30) @ W1 +b1)  # (32, 100)\n",
    "    logits = h @ W2 + b2  # (32, 27)\n",
    "            #counts = logits.exp()                                      || HARD CODED VERSION OF THE CROSS_ENTROPY METHOD IN PYTORCH\n",
    "            #prob = counts / counts.sum(1, keepdims=True)               || if you do it this way then pytorch will make all these new tensors in memory\n",
    "            #loss = - prob[torch.arange(emb.shape[0]), Y].log().mean()  || very inefficient\n",
    "    loss = F.cross_entropy(logits, Ytr[ix])                                   #| same loss as above calculation, but runs in a fused kernel and doesnt have bugs when logits are high positive numbers\n",
    "    #print(loss.item())\n",
    "    \n",
    "    # backward pass\n",
    "    for p in parameters:\n",
    "        p.grad = None\n",
    "    loss.backward()\n",
    "\n",
    "    # update\n",
    "    #lr = lrs[i]\n",
    "    lr = 0.1 if i < 100000 else 0.01\n",
    "    for p in parameters:\n",
    "        p.data += -lr * p.grad\n",
    "        \n",
    "    # track stats\n",
    "    #lri.append(lre[i])\n",
    "    lossi.append(loss.log10().item())\n",
    "    stepi.append(i)\n",
    "    \n",
    "print(loss.item()) # prints loss of the minibatch from training set"
   ]
  },
  {
   "cell_type": "code",
   "execution_count": 377,
   "id": "1d7fe900-38a9-46b9-8d30-23f0396359c1",
   "metadata": {},
   "outputs": [],
   "source": [
    "# plt.plot(lri, lossi)   # finding ideal learning rate, found 0.1 to be ideal"
   ]
  },
  {
   "cell_type": "code",
   "execution_count": 378,
   "id": "88e81618-45f8-40eb-856e-6c91f5411b00",
   "metadata": {},
   "outputs": [
    {
     "data": {
      "text/plain": [
       "[<matplotlib.lines.Line2D at 0x1d2d4461120>]"
      ]
     },
     "execution_count": 378,
     "metadata": {},
     "output_type": "execute_result"
    },
    {
     "data": {
      "image/png": "[encoded data removed]",
      "text/plain": [
       "<Figure size 640x480 with 1 Axes>"
      ]
     },
     "metadata": {},
     "output_type": "display_data"
    }
   ],
   "source": [
    "plt.plot(stepi, lossi)"
   ]
  },
  {
   "cell_type": "code",
   "execution_count": 379,
   "id": "39fc9d1e-02f9-40f5-9af9-7cdacc3bc7fe",
   "metadata": {},
   "outputs": [
    {
     "data": {
      "text/plain": [
       "2.122623920440674"
      ]
     },
     "execution_count": 379,
     "metadata": {},
     "output_type": "execute_result"
    }
   ],
   "source": [
    "# training set\n",
    "\n",
    "emb = C[Xtr] # (emb.shape[0], 3, 2), minibatch of 32 indexes, ix from X inputs, embedded in C\n",
    "h = torch.tanh(emb.view(-1, 30) @ W1 +b1)  # (32, 100)\n",
    "logits = h @ W2 + b2  # (emb.shape[0], 27)\n",
    "loss = F.cross_entropy(logits, Ytr)\n",
    "loss.item() # loss over whole dataset"
   ]
  },
  {
   "cell_type": "code",
   "execution_count": 380,
   "id": "e46ccb2a-4e37-427d-ab96-a6a17d72fe54",
   "metadata": {},
   "outputs": [
    {
     "data": {
      "text/plain": [
       "2.1592109203338623"
      ]
     },
     "execution_count": 380,
     "metadata": {},
     "output_type": "execute_result"
    }
   ],
   "source": [
    "# development set\n",
    "\n",
    "emb = C[Xdev] # (emb.shape[0], 3, 2), minibatch of 32 indexes, ix from X inputs, embedded in C\n",
    "h = torch.tanh(emb.view(-1, 30) @ W1 +b1)  # (32, 100)\n",
    "logits = h @ W2 + b2  # (emb.shape[0], 27)\n",
    "loss = F.cross_entropy(logits, Ydev)\n",
    "loss.item() # loss over whole dataset"
   ]
  },
  {
   "cell_type": "code",
   "execution_count": 381,
   "id": "16d9ade7-43f9-422b-b854-99f7edccb9b6",
   "metadata": {},
   "outputs": [
    {
     "data": {
      "text/plain": [
       "2.1606693267822266"
      ]
     },
     "execution_count": 381,
     "metadata": {},
     "output_type": "execute_result"
    }
   ],
   "source": [
    "# testing set\n",
    "\n",
    "emb = C[Xte] # (emb.shape[0], 3, 2), minibatch of 32 indexes, ix from X inputs, embedded in C\n",
    "h = torch.tanh(emb.view(-1, 30) @ W1 +b1)  # (32, 100)\n",
    "logits = h @ W2 + b2  # (emb.shape[0], 27)\n",
    "loss = F.cross_entropy(logits, Yte)\n",
    "loss.item() # loss over whole dataset"
   ]
  },
  {
   "cell_type": "code",
   "execution_count": 383,
   "id": "6254f4f4-0499-4503-96e0-72bf4d5f5456",
   "metadata": {},
   "outputs": [],
   "source": [
    "# visualize how the neural network choose to embed each of the 27 letters when we use a two dimensional embedding\n",
    "#plt.figure(figsize=(8,8))\n",
    "#plt.scatter(C[:,0].data, C[:,1].data, s=200)\n",
    "#for i in range(C.shape[0]):\n",
    "#    plt.text(C[i,0].item(), C[i,1].item(), itos[i], ha=\"center\", va=\"center\", color='white')\n",
    "#plt.grid('minor')"
   ]
  },
  {
   "cell_type": "code",
   "execution_count": 386,
   "id": "38a1a9f9-8c9e-45f9-8f8c-4fb899f14b05",
   "metadata": {},
   "outputs": [
    {
     "name": "stdout",
     "output_type": "stream",
     "text": [
      "naharlone.\n",
      "hamarmartyn.\n",
      "lariellodian.\n",
      "vivatharshevana.\n",
      "milo.\n",
      "elivan.\n",
      "kamaianah.\n",
      "jakhizabellouanna.\n",
      "hay.\n",
      "olah.\n",
      "nivel.\n",
      "ana.\n",
      "kata.\n",
      "zanviyasmaug.\n",
      "ame.\n",
      "selyna.\n",
      "jode.\n",
      "tityn.\n",
      "chri.\n",
      "mavery.\n"
     ]
    }
   ],
   "source": [
    "# sample from model\n",
    "g = torch.Generator().manual_seed(2147483647 + 11)\n",
    "\n",
    "for _ in range(20):\n",
    "    \n",
    "    out = []\n",
    "    context = [0] * block_size # initialize with all ...\n",
    "    while True:\n",
    "        emb = C[torch.tensor([context])] # (1, block_size, d)\n",
    "        h = torch.tanh(emb.view(1, -1) @ W1 + b1)\n",
    "        logits = h @ W2 + b2\n",
    "        probs = F.softmax(logits, dim=1)\n",
    "        ix = torch.multinomial(probs, num_samples=1, generator=g).item()\n",
    "        context = context[1:] + [ix]\n",
    "        out.append(ix)\n",
    "        if ix == 0:\n",
    "            break\n",
    "    print(''.join(itos[i] for i in out))"
   ]
  },
  {
   "cell_type": "code",
   "execution_count": null,
   "id": "0c37ff87-e5f2-4a5b-a6ad-403267a739c3",
   "metadata": {},
   "outputs": [],
   "source": []
  }
 ],
 "metadata": {
  "kernelspec": {
   "display_name": "Python 3 (ipykernel)",
   "language": "python",
   "name": "python3"
  },
  "language_info": {
   "codemirror_mode": {
    "name": "ipython",
    "version": 3
   },
   "file_extension": ".py",
   "mimetype": "text/x-python",
   "name": "python",
   "nbconvert_exporter": "python",
   "pygments_lexer": "ipython3",
   "version": "3.10.9"
  }
 },
 "nbformat": 4,
 "nbformat_minor": 5
}
